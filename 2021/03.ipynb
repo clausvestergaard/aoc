{
 "cells": [
  {
   "cell_type": "code",
   "execution_count": 8,
   "metadata": {},
   "outputs": [],
   "source": [
    "import numpy as np"
   ]
  },
  {
   "cell_type": "code",
   "execution_count": 9,
   "metadata": {},
   "outputs": [],
   "source": [
    "with open(\"03_input.txt\") as f:\n",
    "    data = f.read().splitlines()\n",
    "\n",
    "\n",
    "data = [list(map(int, x)) for x in data]\n",
    "data = np.array(data)"
   ]
  },
  {
   "cell_type": "markdown",
   "metadata": {},
   "source": [
    "part 1"
   ]
  },
  {
   "cell_type": "code",
   "execution_count": 10,
   "metadata": {},
   "outputs": [],
   "source": [
    "\n",
    "gammarate = [str(np.bincount(data[:,x]).argmax()) for x in range(data.shape[1])]\n",
    "gammarate = \"\".join(gammarate)\n",
    "\n",
    "epsilonrate = \"\".join([str(int(int(x) == 0)) for x in gammarate])"
   ]
  },
  {
   "cell_type": "code",
   "execution_count": 11,
   "metadata": {},
   "outputs": [
    {
     "data": {
      "text/plain": [
       "738234"
      ]
     },
     "execution_count": 11,
     "metadata": {},
     "output_type": "execute_result"
    }
   ],
   "source": [
    "gamma = int(gammarate, 2)\n",
    "epsilon = int(epsilonrate, 2)\n",
    "gamma * epsilon"
   ]
  },
  {
   "cell_type": "markdown",
   "metadata": {},
   "source": [
    "part 2"
   ]
  },
  {
   "cell_type": "code",
   "execution_count": 12,
   "metadata": {},
   "outputs": [],
   "source": [
    "dt = data.copy()\n",
    "idx = 0\n",
    "for idx in range(data.shape[1]):\n",
    "    count = np.bincount(dt[:, idx])\n",
    "    most_common = count.argmax() if not np.unique(count).shape[0] == 1 else 1\n",
    "    \n",
    "    dt = dt[dt[:, idx] == most_common]\n",
    "\n",
    "oxygen_rating_generator = \"\".join([str(x) for x in dt[0]])\n",
    "oxygen_rate = int(oxygen_rating_generator, 2)"
   ]
  },
  {
   "cell_type": "code",
   "execution_count": 13,
   "metadata": {},
   "outputs": [],
   "source": [
    "dt = data.copy()\n",
    "idx = 0\n",
    "for idx in range(data.shape[1]):\n",
    "    count = np.bincount(dt[:, idx])\n",
    "    least_common = count.argmin() if not np.unique(count).shape[0] == 1 else 0\n",
    "    \n",
    "    dt = dt[dt[:, idx] == least_common]\n",
    "    \n",
    "    if dt.shape[0] == 1:\n",
    "        break\n",
    "\n",
    "co2_rating = \"\".join([str(x) for x in dt[0]])\n",
    "co2 = int(co2_rating, 2)"
   ]
  },
  {
   "cell_type": "code",
   "execution_count": 14,
   "metadata": {},
   "outputs": [
    {
     "data": {
      "text/plain": [
       "3969126"
      ]
     },
     "execution_count": 14,
     "metadata": {},
     "output_type": "execute_result"
    }
   ],
   "source": [
    "oxygen_rate * co2"
   ]
  }
 ],
 "metadata": {
  "kernelspec": {
   "display_name": "Python 3",
   "language": "python",
   "name": "python3"
  },
  "language_info": {
   "codemirror_mode": {
    "name": "ipython",
    "version": 3
   },
   "file_extension": ".py",
   "mimetype": "text/x-python",
   "name": "python",
   "nbconvert_exporter": "python",
   "pygments_lexer": "ipython3",
   "version": "3.7.9"
  }
 },
 "nbformat": 4,
 "nbformat_minor": 4
}
