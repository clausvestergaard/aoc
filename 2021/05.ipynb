{
 "cells": [
  {
   "cell_type": "code",
   "execution_count": 1,
   "metadata": {},
   "outputs": [],
   "source": [
    "import re\n",
    "import numpy as np"
   ]
  },
  {
   "cell_type": "code",
   "execution_count": 2,
   "metadata": {},
   "outputs": [],
   "source": [
    "with open(\"05_input.txt\", \"r\") as f:\n",
    "    data = f.read().splitlines()\n",
    "\n",
    "data = [re.split(\",|->\", x) for x in data]\n",
    "data = [list(map(str.strip, x)) for x in data]\n",
    "data = [list(map(int, x)) for x in data]\n",
    "data = [[(x[0], x[1]), (x[2], x[3])] for x in data]"
   ]
  },
  {
   "cell_type": "markdown",
   "metadata": {},
   "source": [
    "part 1"
   ]
  },
  {
   "cell_type": "code",
   "execution_count": 3,
   "metadata": {},
   "outputs": [],
   "source": [
    "arr = np.zeros([len(data), 1000, 1000])"
   ]
  },
  {
   "cell_type": "code",
   "execution_count": 4,
   "metadata": {},
   "outputs": [],
   "source": [
    "for idx, d in enumerate(data):\n",
    "    x = np.sort(np.array(d)[:, 0])\n",
    "    y = np.sort(np.array(d)[:, 1])\n",
    "    arr[idx, x[0]:x[1]+1, y[0]:y[1]+1] = 1\n",
    "    \n",
    "    x_offset = x[1] - x[0]\n",
    "    y_offset = y[1] - y[0]\n",
    "    \n",
    "    if x_offset > 0 and y_offset > 0:\n",
    "        arr[idx] = 0\n",
    "sum_across_boards = np.sum(arr, axis=0)"
   ]
  },
  {
   "cell_type": "code",
   "execution_count": 5,
   "metadata": {},
   "outputs": [
    {
     "data": {
      "text/plain": [
       "5835"
      ]
     },
     "execution_count": 5,
     "metadata": {},
     "output_type": "execute_result"
    }
   ],
   "source": [
    "np.sum(sum_across_boards >= 2)"
   ]
  },
  {
   "cell_type": "markdown",
   "metadata": {},
   "source": [
    "part 2"
   ]
  },
  {
   "cell_type": "code",
   "execution_count": 12,
   "metadata": {},
   "outputs": [],
   "source": [
    "arr = np.zeros([len(data), 1000, 1000])\n",
    "for idx, d in enumerate(data):\n",
    "    \n",
    "    x = np.sort(np.array(d)[:, 0])\n",
    "    y = np.sort(np.array(d)[:, 1])\n",
    "    arr[idx, x[0]:x[1]+1, y[0]:y[1]+1] = 1\n",
    "    \n",
    "    x_offset = x[1] - x[0]\n",
    "    y_offset = y[1] - y[0]\n",
    "\n",
    "    if x_offset > 0 and y_offset > 0:\n",
    "        arr[idx] = 0\n",
    "\n",
    "    if x_offset == y_offset:\n",
    "        np.fill_diagonal(arr[idx, x[0]:x[1]+1, y[0]:y[1]+1], 1)\n",
    "\n",
    "sum_across_boards = np.sum(arr, axis=0)"
   ]
  },
  {
   "cell_type": "code",
   "execution_count": 13,
   "metadata": {},
   "outputs": [
    {
     "data": {
      "text/plain": [
       "19092"
      ]
     },
     "execution_count": 13,
     "metadata": {},
     "output_type": "execute_result"
    }
   ],
   "source": [
    "np.sum(sum_across_boards >= 2)"
   ]
  }
 ],
 "metadata": {
  "kernelspec": {
   "display_name": "Python 3",
   "language": "python",
   "name": "python3"
  },
  "language_info": {
   "codemirror_mode": {
    "name": "ipython",
    "version": 3
   },
   "file_extension": ".py",
   "mimetype": "text/x-python",
   "name": "python",
   "nbconvert_exporter": "python",
   "pygments_lexer": "ipython3",
   "version": "3.7.9"
  }
 },
 "nbformat": 4,
 "nbformat_minor": 4
}
