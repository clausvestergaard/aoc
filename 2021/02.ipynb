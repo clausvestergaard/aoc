{
 "cells": [
  {
   "cell_type": "code",
   "execution_count": 1,
   "metadata": {},
   "outputs": [],
   "source": [
    "with open(\"02_input.txt\") as f:\n",
    "    data = f.read().splitlines()\n",
    "\n",
    "data = [x.split(\" \") for x in data]"
   ]
  },
  {
   "cell_type": "markdown",
   "metadata": {},
   "source": [
    "part 1"
   ]
  },
  {
   "cell_type": "code",
   "execution_count": 2,
   "metadata": {},
   "outputs": [
    {
     "name": "stdout",
     "output_type": "stream",
     "text": [
      "horizontal: 2073 , depth: 850\n",
      "result: 1762050\n"
     ]
    }
   ],
   "source": [
    "horizontal = 0\n",
    "depth = 0\n",
    "for direction, magnitude in data:\n",
    "    if direction == \"forward\":\n",
    "        horizontal += int(magnitude)\n",
    "    elif direction == \"up\":\n",
    "        depth -= int(magnitude)\n",
    "    elif direction == \"down\":\n",
    "        depth += int(magnitude)\n",
    "\n",
    "print(\"horizontal:\", horizontal, \", depth:\", depth)\n",
    "print(\"result:\", horizontal * depth)"
   ]
  },
  {
   "cell_type": "markdown",
   "metadata": {},
   "source": [
    "part 2"
   ]
  },
  {
   "cell_type": "code",
   "execution_count": 3,
   "metadata": {},
   "outputs": [
    {
     "name": "stdout",
     "output_type": "stream",
     "text": [
      "horizontal: 2073 , depth: 895269\n",
      "result: 1855892637\n"
     ]
    }
   ],
   "source": [
    "horizontal = 0\n",
    "depth = 0\n",
    "aim = 0\n",
    "for direction, magnitude in data:\n",
    "    if direction == \"forward\":\n",
    "        horizontal += int(magnitude)\n",
    "        depth += aim * int(magnitude)\n",
    "    elif direction == \"up\":\n",
    "        aim -= int(magnitude)\n",
    "    elif direction == \"down\":\n",
    "        aim += int(magnitude)\n",
    "\n",
    "print(\"horizontal:\", horizontal, \", depth:\", depth)\n",
    "print(\"result:\", horizontal * depth)"
   ]
  }
 ],
 "metadata": {
  "kernelspec": {
   "display_name": "Python 3",
   "language": "python",
   "name": "python3"
  },
  "language_info": {
   "codemirror_mode": {
    "name": "ipython",
    "version": 3
   },
   "file_extension": ".py",
   "mimetype": "text/x-python",
   "name": "python",
   "nbconvert_exporter": "python",
   "pygments_lexer": "ipython3",
   "version": "3.7.9"
  }
 },
 "nbformat": 4,
 "nbformat_minor": 4
}
