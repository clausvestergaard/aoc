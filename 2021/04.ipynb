{
 "cells": [
  {
   "cell_type": "code",
   "execution_count": 1,
   "metadata": {},
   "outputs": [],
   "source": [
    "import numpy as np\n",
    "import pandas as pd"
   ]
  },
  {
   "cell_type": "code",
   "execution_count": 2,
   "metadata": {},
   "outputs": [],
   "source": [
    "with open(\"04_input.txt\", \"r\") as f:\n",
    "    data = f.read().splitlines()\n",
    "\n",
    "data = [x for x in data if not x == \"\"]"
   ]
  },
  {
   "cell_type": "code",
   "execution_count": 3,
   "metadata": {},
   "outputs": [],
   "source": [
    "draws = [int(x) for x in data[0].split(\",\")]"
   ]
  },
  {
   "cell_type": "code",
   "execution_count": 4,
   "metadata": {},
   "outputs": [],
   "source": [
    "board_rows = [np.array(x.split(), dtype=int) for x in data[1:]]"
   ]
  },
  {
   "cell_type": "code",
   "execution_count": 5,
   "metadata": {},
   "outputs": [],
   "source": [
    "boards = np.array_split(board_rows, len(board_rows)/5)"
   ]
  },
  {
   "cell_type": "markdown",
   "metadata": {},
   "source": [
    "part 1"
   ]
  },
  {
   "cell_type": "code",
   "execution_count": 6,
   "metadata": {},
   "outputs": [],
   "source": [
    "winners = []\n",
    "for board in boards:\n",
    "    for draw_idx, _ in enumerate(draws):\n",
    "        horizontal_win = np.equal(np.isin(board, draws[:draw_idx+1]).sum(axis=1), 5).any()\n",
    "        vertical_win = np.equal(np.isin(board, draws[:draw_idx+1]).sum(axis=0), 5).any()\n",
    "        \n",
    "        if horizontal_win or vertical_win:\n",
    "            winners.append(draw_idx)\n",
    "            break"
   ]
  },
  {
   "cell_type": "code",
   "execution_count": 7,
   "metadata": {},
   "outputs": [
    {
     "name": "stdout",
     "output_type": "stream",
     "text": [
      "Result: 71708\n"
     ]
    }
   ],
   "source": [
    "winning_draw_idx = np.min(winners)\n",
    "winning_board_idx = np.argmin(winners)\n",
    "winning_board = boards[winning_board_idx]\n",
    "\n",
    "sum_remaining_numbers = np.where(np.isin(winning_board, draws[:winning_draw_idx+1]), winning_board * 0, winning_board).sum()\n",
    "\n",
    "print(\"Result:\", draws[winning_draw_idx] * sum_remaining_numbers)"
   ]
  },
  {
   "cell_type": "markdown",
   "metadata": {},
   "source": [
    "part 2"
   ]
  },
  {
   "cell_type": "code",
   "execution_count": 8,
   "metadata": {},
   "outputs": [
    {
     "name": "stdout",
     "output_type": "stream",
     "text": [
      "result: 34726\n"
     ]
    }
   ],
   "source": [
    "loser_draw_idx = np.max(winners)\n",
    "loser_board_idx = np.argmax(winners)\n",
    "loser_board = boards[loser_board_idx]\n",
    "\n",
    "sum_remaining_numbers = np.where(np.isin(loser_board, draws[:loser_draw_idx+1]), loser_board * 0, loser_board).sum()\n",
    "\n",
    "print(\"result:\", draws[loser_draw_idx] * sum_remaining_numbers)"
   ]
  }
 ],
 "metadata": {
  "kernelspec": {
   "display_name": "Python 3",
   "language": "python",
   "name": "python3"
  },
  "language_info": {
   "codemirror_mode": {
    "name": "ipython",
    "version": 3
   },
   "file_extension": ".py",
   "mimetype": "text/x-python",
   "name": "python",
   "nbconvert_exporter": "python",
   "pygments_lexer": "ipython3",
   "version": "3.7.9"
  }
 },
 "nbformat": 4,
 "nbformat_minor": 4
}
